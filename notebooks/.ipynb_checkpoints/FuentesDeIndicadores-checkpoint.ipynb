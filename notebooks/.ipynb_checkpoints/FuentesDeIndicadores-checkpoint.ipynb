{
 "cells": [
  {
   "cell_type": "markdown",
   "metadata": {},
   "source": [
    "## Indicadores a cubrir\n",
    "https://drive.google.com/file/d/0BwkOGkk_oaTTUXNDeXJ2TjM4dGc/view?usp=sharing"
   ]
  },
  {
   "cell_type": "markdown",
   "metadata": {},
   "source": [
    "Objectivo: Obtener las fuentes de los datos, luego distinguir por ciudad."
   ]
  },
  {
   "cell_type": "code",
   "execution_count": 40,
   "metadata": {
    "collapsed": true
   },
   "outputs": [],
   "source": [
    "import pandas as pd\n",
    "import numpy as np\n",
    "%matplotlib inline"
   ]
  },
  {
   "cell_type": "markdown",
   "metadata": {},
   "source": [
    "# Parque Vehicular\n",
    "http://inegifacil.com/indicadores/1011000057/19039"
   ]
  },
  {
   "cell_type": "code",
   "execution_count": 4,
   "metadata": {},
   "outputs": [
    {
     "name": "stdout",
     "output_type": "stream",
     "text": [
      "Untitled.ipynb     eic2015_19_csv.zip\r\n"
     ]
    }
   ],
   "source": [
    "!ls"
   ]
  },
  {
   "cell_type": "code",
   "execution_count": 15,
   "metadata": {},
   "outputs": [],
   "source": [
    "respuestas = pandas.read_csv(\"TR_PERSONA19.CSV\", encoding=\"latin-1\")"
   ]
  },
  {
   "cell_type": "code",
   "execution_count": 9,
   "metadata": {},
   "outputs": [
    {
     "data": {
      "text/plain": [
       "Index(['ID_VIV', 'ID_PERSONA', 'ENT', 'NOM_ENT', 'MUN', 'NOM_MUN', 'LOC50K',\n",
       "       'NOM_LOC', 'COBERTURA', 'ESTRATO', 'UPM', 'FACTOR', 'NUMPER', 'SEXO',\n",
       "       'EDAD', 'PARENT', 'PARENT_OTRO_C', 'IDENT_MADRE', 'IDENT_PADRE',\n",
       "       'SERSALUD', 'AFRODES', 'ACTA_NAC', 'DHSERSAL1', 'DHSERSAL2',\n",
       "       'PERTE_INDIGENA', 'ENT_PAIS_NAC', 'NACIONALIDAD', 'HLENGUA',\n",
       "       'QDIALECT_C', 'QDIALECT_INALI', 'HESPANOL', 'ELENGUA', 'ASISTEN',\n",
       "       'MUN_ASI', 'NOM_MUN_ASI', 'ENT_PAIS_ASI', 'TIE_TRASLADO_ESCU',\n",
       "       'MED_TRASLADO_ESC1', 'MED_TRASLADO_ESC2', 'MED_TRASLADO_ESC3',\n",
       "       'ESCOLARI', 'NIVACAD', 'ALFABET', 'ESCOACUM', 'MUN_RES10',\n",
       "       'NOM_MUN_RES10', 'ENT_PAIS_RES10', 'SITUA_CONYUGAL', 'IDENT_PAREJA',\n",
       "       'CONACT', 'OCUPACION_C', 'SITUACION_TRAB', 'AGUINALDO', 'VACACIONES',\n",
       "       'SERVICIO_MEDICO', 'UTILIDADES', 'INCAP_SUELDO', 'SAR_AFORE',\n",
       "       'CREDITO_VIVIENDA', 'INGTRMEN', 'ACTIVIDADES_C', 'MUN_TRAB',\n",
       "       'NOM_MUN_TRAB', 'ENT_PAIS_TRAB', 'TIE_TRASLADO_TRAB',\n",
       "       'MED_TRASLADO_TRAB1', 'MED_TRASLADO_TRAB2', 'MED_TRASLADO_TRAB3',\n",
       "       'ACTI_SIN_PAGO1', 'ACTI_SIN_PAGO2', 'ACTI_SIN_PAGO3', 'ACTI_SIN_PAGO4',\n",
       "       'ACTI_SIN_PAGO5', 'ACTI_SIN_PAGO6', 'ACTI_SIN_PAGO7', 'ACTI_SIN_PAGO8',\n",
       "       'HIJOS_NAC_VIVOS', 'HIJOS_FALLECIDOS', 'HIJOS_SOBREVIV', 'FECHA_NAC_M',\n",
       "       'FECHA_NAC_A', 'SOBREVIVENCIA', 'EDAD_MORIR_D', 'EDAD_MORIR_M',\n",
       "       'EDAD_MORIR_A', 'TAMLOC'],\n",
       "      dtype='object')"
      ]
     },
     "execution_count": 9,
     "metadata": {},
     "output_type": "execute_result"
    }
   ],
   "source": [
    "respuestas.columns"
   ]
  },
  {
   "cell_type": "markdown",
   "metadata": {},
   "source": [
    "#### http://www.beta.inegi.org.mx/contenidos/proyectos/enchogares/especiales/intercensal/2015/doc/eic2015_cuestionario.pdf"
   ]
  },
  {
   "cell_type": "code",
   "execution_count": 12,
   "metadata": {},
   "outputs": [
    {
     "data": {
      "text/plain": [
       "Monterrey                   59770\n",
       "Guadalupe                   41773\n",
       "Apodaca                     35665\n",
       "Juárez                      32284\n",
       "General Escobedo            21190\n",
       "San Nicolás de los Garza    20517\n",
       "Santa Catarina              20245\n",
       "García                      16645\n",
       "General Zuazua              16110\n",
       "Pesquería                   14780\n",
       "Salinas Victoria            13471\n",
       "San Pedro Garza García      13355\n",
       "El Carmen                   12693\n",
       "Linares                     12582\n",
       "Ciénega de Flores           12121\n",
       "Cadereyta Jiménez           12074\n",
       "Galeana                     11704\n",
       "Doctor Arroyo               11370\n",
       "Montemorelos                10671\n",
       "Santiago                    10550\n",
       "Sabinas Hidalgo              9886\n",
       "Allende                      8899\n",
       "Anáhuac                      7785\n",
       "Aramberri                    7616\n",
       "General Terán                7173\n",
       "Hidalgo                      6837\n",
       "China                        5416\n",
       "Mier y Noriega               5234\n",
       "Hualahuises                  4517\n",
       "Cerralvo                     4446\n",
       "General Zaragoza             3765\n",
       "Mina                         3757\n",
       "Lampazos de Naranjo          3738\n",
       "Marín                        3737\n",
       "Iturbide                     3360\n",
       "General Bravo                3324\n",
       "Bustamante                   3299\n",
       "Los Ramones                  3230\n",
       "Villaldama                   2835\n",
       "Doctor González              2643\n",
       "Abasolo                      2598\n",
       "Rayones                      2576\n",
       "Agualeguas                   2334\n",
       "Los Herreras                 1696\n",
       "Vallecillo                   1610\n",
       "Doctor Coss                  1592\n",
       "Higueras                     1464\n",
       "Los Aldamas                  1262\n",
       "General Treviño              1032\n",
       "Parás                         940\n",
       "Melchor Ocampo                705\n",
       "Name: NOM_MUN, dtype: int64"
      ]
     },
     "execution_count": 12,
     "metadata": {},
     "output_type": "execute_result"
    }
   ],
   "source": [
    "respuestas[\"NOM_MUN\"].value_counts()"
   ]
  },
  {
   "cell_type": "code",
   "execution_count": 11,
   "metadata": {},
   "outputs": [
    {
     "data": {
      "text/plain": [
       "1.0    86390\n",
       "2.0    28151\n",
       "3.0    13274\n",
       "9.0     8073\n",
       "4.0     4609\n",
       "6.0     1050\n",
       "5.0      704\n",
       "Name: TIE_TRASLADO_ESCU, dtype: int64"
      ]
     },
     "execution_count": 11,
     "metadata": {},
     "output_type": "execute_result"
    }
   ],
   "source": [
    "respuestas[\"TIE_TRASLADO_ESCU\"].value_counts()"
   ]
  },
  {
   "cell_type": "markdown",
   "metadata": {},
   "source": [
    "¿Cómo acostumbra\n",
    "(NOMBRE) ir de aquí a su\n",
    "escuela?\n",
    "CIRCULE HASTA TRES CÓDIGOS\n",
    "Camión, taxi, combi\n",
    "o colectivo................................ 1\n",
    "Metro, metrobús o tren ligero ... 2\n",
    "Vehículo particular\n",
    "(automóvil, camioneta o\n",
    "motocicleta) ............................. 3\n",
    "Transporte escolar................... 4\n",
    "Bicicleta ................................... 5\n",
    "Caminando .............................. 6\n",
    "Otro.......................................... 7"
   ]
  },
  {
   "cell_type": "markdown",
   "metadata": {},
   "source": [
    "# Reporte a replicar:\n",
    "http://revistaterritorio.mx/la-popularidad-del-auto-en-guadalajara.html"
   ]
  },
  {
   "cell_type": "markdown",
   "metadata": {},
   "source": [
    "# Indicadores de Colisiones"
   ]
  },
  {
   "cell_type": "code",
   "execution_count": 24,
   "metadata": {
    "collapsed": true
   },
   "outputs": [],
   "source": [
    "import pickle"
   ]
  },
  {
   "cell_type": "code",
   "execution_count": 25,
   "metadata": {},
   "outputs": [],
   "source": [
    "colisiones = pandas.read_pickle(\"data.pickle\")"
   ]
  },
  {
   "cell_type": "code",
   "execution_count": 29,
   "metadata": {},
   "outputs": [
    {
     "data": {
      "text/plain": [
       "Index(['Column', 'Calle', 'Causa', 'Ciudad', 'Cruce', 'Fecha', 'Hora', 'ID',\n",
       "       'Latitud', 'Lesionados', 'Longitud', 'Mes', 'Muertos',\n",
       "       'No. De Infracción', 'Número  total de lesionados',\n",
       "       'Número total de muertos', 'Por alcohol', 'Sentido',\n",
       "       'Situación climática', 'Situación del Pavimento', 'Tipo de incidente',\n",
       "       'Tipo de involucrado', 'Tipo de vía', 'V1_Arresto', 'V1_Dictamen',\n",
       "       'V1_Edad', 'V1_Estatus Licencia', 'V1_Género', 'V1_No. De Fallecidos',\n",
       "       'V1_No. De Lesionados', 'V1_Tipo de Vehículo', 'V1_Uso de Cinturón',\n",
       "       'V2_Arresto', 'V2_Dictamen', 'V2_Edad', 'V2_Estatus Licencia',\n",
       "       'V2_Género', 'V2_No. De Fallecidos', 'V2_No. De Lesionados',\n",
       "       'V2_Tipo de Vehículo', 'V2_Uso de Cinturón', 'V3_Arresto',\n",
       "       'V3_Dictamen', 'V3_Edad', 'V3_Estatus Licencia', 'V3_Género',\n",
       "       'V3_No. De Fallecidos', 'V3_No. De Lesionados', 'V3_Tipo de Vehículo',\n",
       "       'V3_Uso de Cinturón'],\n",
       "      dtype='object')"
      ]
     },
     "execution_count": 29,
     "metadata": {},
     "output_type": "execute_result"
    }
   ],
   "source": [
    "colisiones.columns"
   ]
  },
  {
   "cell_type": "code",
   "execution_count": 26,
   "metadata": {},
   "outputs": [
    {
     "data": {
      "text/html": [
       "<div>\n",
       "<table border=\"1\" class=\"dataframe\">\n",
       "  <thead>\n",
       "    <tr style=\"text-align: right;\">\n",
       "      <th></th>\n",
       "      <th>Column</th>\n",
       "      <th>Número  total de lesionados</th>\n",
       "      <th>Número total de muertos</th>\n",
       "      <th>V1_No. De Lesionados</th>\n",
       "      <th>V2_No. De Lesionados</th>\n",
       "      <th>V3_No. De Lesionados</th>\n",
       "    </tr>\n",
       "  </thead>\n",
       "  <tbody>\n",
       "    <tr>\n",
       "      <th>count</th>\n",
       "      <td>55013.000000</td>\n",
       "      <td>28007.000000</td>\n",
       "      <td>21491.000000</td>\n",
       "      <td>22314.000000</td>\n",
       "      <td>17743.000000</td>\n",
       "      <td>10567.000000</td>\n",
       "    </tr>\n",
       "    <tr>\n",
       "      <th>mean</th>\n",
       "      <td>13844.814607</td>\n",
       "      <td>0.076195</td>\n",
       "      <td>0.003164</td>\n",
       "      <td>0.035404</td>\n",
       "      <td>0.040861</td>\n",
       "      <td>0.002271</td>\n",
       "    </tr>\n",
       "    <tr>\n",
       "      <th>std</th>\n",
       "      <td>8097.883654</td>\n",
       "      <td>0.472004</td>\n",
       "      <td>0.063181</td>\n",
       "      <td>0.350428</td>\n",
       "      <td>0.264089</td>\n",
       "      <td>0.081363</td>\n",
       "    </tr>\n",
       "    <tr>\n",
       "      <th>min</th>\n",
       "      <td>0.000000</td>\n",
       "      <td>0.000000</td>\n",
       "      <td>0.000000</td>\n",
       "      <td>0.000000</td>\n",
       "      <td>0.000000</td>\n",
       "      <td>0.000000</td>\n",
       "    </tr>\n",
       "    <tr>\n",
       "      <th>25%</th>\n",
       "      <td>6876.000000</td>\n",
       "      <td>0.000000</td>\n",
       "      <td>0.000000</td>\n",
       "      <td>0.000000</td>\n",
       "      <td>0.000000</td>\n",
       "      <td>0.000000</td>\n",
       "    </tr>\n",
       "    <tr>\n",
       "      <th>50%</th>\n",
       "      <td>13753.000000</td>\n",
       "      <td>0.000000</td>\n",
       "      <td>0.000000</td>\n",
       "      <td>0.000000</td>\n",
       "      <td>0.000000</td>\n",
       "      <td>0.000000</td>\n",
       "    </tr>\n",
       "    <tr>\n",
       "      <th>75%</th>\n",
       "      <td>20629.000000</td>\n",
       "      <td>0.000000</td>\n",
       "      <td>0.000000</td>\n",
       "      <td>0.000000</td>\n",
       "      <td>0.000000</td>\n",
       "      <td>0.000000</td>\n",
       "    </tr>\n",
       "    <tr>\n",
       "      <th>max</th>\n",
       "      <td>29756.000000</td>\n",
       "      <td>21.000000</td>\n",
       "      <td>4.000000</td>\n",
       "      <td>31.000000</td>\n",
       "      <td>10.000000</td>\n",
       "      <td>7.000000</td>\n",
       "    </tr>\n",
       "  </tbody>\n",
       "</table>\n",
       "</div>"
      ],
      "text/plain": [
       "             Column  Número  total de lesionados  Número total de muertos  \\\n",
       "count  55013.000000                 28007.000000             21491.000000   \n",
       "mean   13844.814607                     0.076195                 0.003164   \n",
       "std     8097.883654                     0.472004                 0.063181   \n",
       "min        0.000000                     0.000000                 0.000000   \n",
       "25%     6876.000000                     0.000000                 0.000000   \n",
       "50%    13753.000000                     0.000000                 0.000000   \n",
       "75%    20629.000000                     0.000000                 0.000000   \n",
       "max    29756.000000                    21.000000                 4.000000   \n",
       "\n",
       "       V1_No. De Lesionados  V2_No. De Lesionados  V3_No. De Lesionados  \n",
       "count          22314.000000          17743.000000          10567.000000  \n",
       "mean               0.035404              0.040861              0.002271  \n",
       "std                0.350428              0.264089              0.081363  \n",
       "min                0.000000              0.000000              0.000000  \n",
       "25%                0.000000              0.000000              0.000000  \n",
       "50%                0.000000              0.000000              0.000000  \n",
       "75%                0.000000              0.000000              0.000000  \n",
       "max               31.000000             10.000000              7.000000  "
      ]
     },
     "execution_count": 26,
     "metadata": {},
     "output_type": "execute_result"
    }
   ],
   "source": [
    "colisiones.describe()"
   ]
  },
  {
   "cell_type": "code",
   "execution_count": 30,
   "metadata": {},
   "outputs": [
    {
     "data": {
      "text/plain": [
       "Choque               16132\n",
       "Alcance              13942\n",
       "Lateral              11618\n",
       "SD                    5973\n",
       "Estrellamiento        2961\n",
       "Atropello             1328\n",
       "Reversa               1050\n",
       "Frontal                999\n",
       "Volcadura              434\n",
       "Salida del Camino      238\n",
       "Diverso                200\n",
       "Caída de Persona        99\n",
       "Incendio                39\n",
       "Name: Tipo de incidente, dtype: int64"
      ]
     },
     "execution_count": 30,
     "metadata": {},
     "output_type": "execute_result"
    }
   ],
   "source": [
    "colisiones[\"Tipo de incidente\"].value_counts()"
   ]
  },
  {
   "cell_type": "code",
   "execution_count": 31,
   "metadata": {},
   "outputs": [
    {
     "data": {
      "text/plain": [
       "GONZALITOS                    553\n",
       "LAZARO CARDENAS               463\n",
       "RUIZ CORTINES                 427\n",
       "MADERO                        387\n",
       "ALFONSO REYES                 386\n",
       "MORONES PRIETO                364\n",
       "JOSE VASCONCELOS              341\n",
       "CONSTITUCION                  275\n",
       "0                             273\n",
       "VILLAS DEL PONIENTE           265\n",
       "MIGUEL ALEMAN                 247\n",
       "JUAREZ                        245\n",
       "GOMEZ MORIN                   223\n",
       "MATAMOROS                     222\n",
       "CALZADA SAN PEDRO             221\n",
       "BENITO JUAREZ                 221\n",
       "COLON                         220\n",
       "CORREGIDORA                   219\n",
       "LAS TORRES                    215\n",
       "CUAUHTEMOC                    209\n",
       "ZARAGOZA                      207\n",
       "BERNARDO REYES                206\n",
       "DIEGO RIVERA                  205\n",
       "GUERRERO                      202\n",
       "SANTA BARBARA                 200\n",
       "VENUSTIANO CARRANZA           195\n",
       "HIDALGO                       193\n",
       "REVOLUCION                    189\n",
       "LINCOLN                       188\n",
       "PABLO GONZALEZ G.             187\n",
       "                             ... \n",
       "FRENTE A EMPRESA PALMEX         1\n",
       "SATURNINO HERRERA               1\n",
       "FRENTE AL HEB EN LA JOROBA      1\n",
       "Oleoducto                       1\n",
       "Bosques de la Palma             1\n",
       "G. ALMARAZ                      1\n",
       "JESUS SILVA HERZOG              1\n",
       "VALLE CARBAJAL                  1\n",
       "ENFRENTE DE GRM                 1\n",
       "SUCRE                           1\n",
       "CIUDAD DE SEGOVIA               1\n",
       "FRENTE A AGROINSA               1\n",
       "FRENTE AL 1910                  1\n",
       "FTE. 315                        1\n",
       "De la Vereda                    1\n",
       "ARRAYAN                         1\n",
       "FTE A VIÑEDOS                   1\n",
       "AVENIDA TREBOLES                1\n",
       "MISION MONTERREY                1\n",
       "SALVADOR AHUMDA                 1\n",
       "FRENTE A MERCO                  1\n",
       "PERIMETRAL  PIONEROS            1\n",
       "SANTA INES                      1\n",
       "FTE 118                         1\n",
       "BILBOA                          1\n",
       "CALLE DE LOS MANANTI            1\n",
       "HDA SANTA                       1\n",
       "PANDURATA                       1\n",
       "FRENTE AL MOTEL ÑIU             1\n",
       "AVE SOL                         1\n",
       "Name: Cruce, dtype: int64"
      ]
     },
     "execution_count": 31,
     "metadata": {},
     "output_type": "execute_result"
    }
   ],
   "source": [
    "colisiones[\"Cruce\"].value_counts()"
   ]
  },
  {
   "cell_type": "code",
   "execution_count": 37,
   "metadata": {
    "scrolled": true
   },
   "outputs": [
    {
     "data": {
      "text/plain": [
       "Conductor              22315\n",
       "Auto                    2435\n",
       "Piloto                  1101\n",
       "S/D                      930\n",
       "Camioneta                860\n",
       "Motociclista             244\n",
       "Carga pesada             139\n",
       "Camión de pasajeros      102\n",
       "Pick Up                   93\n",
       "Mini Van                  91\n",
       "Desconocido               69\n",
       "SD                        59\n",
       "Motocicleta               55\n",
       "Otros                     25\n",
       "Ciclista                  14\n",
       "Sin Dato                   6\n",
       "CONDUCTOR                  4\n",
       "Bicicleta                  4\n",
       "conductor                  3\n",
       "Trailer                    2\n",
       "Tracción animal            1\n",
       "Pasajero                   1\n",
       "Peatón                     1\n",
       "Name: Tipo de involucrado, dtype: int64"
      ]
     },
     "execution_count": 37,
     "metadata": {},
     "output_type": "execute_result"
    }
   ],
   "source": [
    "colisiones[ 'Tipo de involucrado'].value_counts()"
   ]
  },
  {
   "cell_type": "code",
   "execution_count": 48,
   "metadata": {},
   "outputs": [
    {
     "data": {
      "text/plain": [
       "<matplotlib.axes._subplots.AxesSubplot at 0x1102dd128>"
      ]
     },
     "execution_count": 48,
     "metadata": {},
     "output_type": "execute_result"
    },
    {
     "data": {
      "image/png": "[encoded data removed]",
      "text/plain": [
       "<matplotlib.figure.Figure at 0x1102e74a8>"
      ]
     },
     "metadata": {},
     "output_type": "display_data"
    }
   ],
   "source": [
    "data_edad = pd.to_numeric(colisiones[\"V1_Edad\"], errors=\"remove\")\n",
    "data_edad[data_edad <100].hist()"
   ]
  },
  {
   "cell_type": "code",
   "execution_count": null,
   "metadata": {
    "collapsed": true
   },
   "outputs": [],
   "source": []
  }
 ],
 "metadata": {
  "kernelspec": {
   "display_name": "Python 3",
   "language": "python",
   "name": "python3"
  },
  "language_info": {
   "codemirror_mode": {
    "name": "ipython",
    "version": 3
   },
   "file_extension": ".py",
   "mimetype": "text/x-python",
   "name": "python",
   "nbconvert_exporter": "python",
   "pygments_lexer": "ipython3",
   "version": "3.6.1"
  }
 },
 "nbformat": 4,
 "nbformat_minor": 2
}
